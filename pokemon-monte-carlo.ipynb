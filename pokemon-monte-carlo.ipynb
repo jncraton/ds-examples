{
 "cells": [
  {
   "cell_type": "code",
   "execution_count": 16,
   "metadata": {},
   "outputs": [
    {
     "data": {
      "text/plain": [
       "0.8622612528177463"
      ]
     },
     "execution_count": 16,
     "metadata": {},
     "output_type": "execute_result"
    }
   ],
   "source": [
    "from random import random, randint\n",
    "\n",
    "random()"
   ]
  },
  {
   "cell_type": "code",
   "execution_count": 53,
   "metadata": {},
   "outputs": [
    {
     "data": {
      "text/plain": [
       "0"
      ]
     },
     "execution_count": 53,
     "metadata": {},
     "output_type": "execute_result"
    }
   ],
   "source": [
    "mankey = {\n",
    "    'name': 'mankey',\n",
    "    'hp': 27,\n",
    "    'level': 3,\n",
    "    'damage': 8,\n",
    "    'type': 'fighting',\n",
    "    'miss_chance': .2,\n",
    "}\n",
    "\n",
    "pikachu = {\n",
    "    'name': 'pikachu',\n",
    "    'hp': 27,\n",
    "    'level': 9,\n",
    "    'damage': 8,\n",
    "    'miss_chance': .2,\n",
    "}\n",
    "\n",
    "def fight(p1, p2):\n",
    "    p1 = p1.copy()\n",
    "    p2 = p2.copy()\n",
    "    \n",
    "    while True:\n",
    "        if random() > p1['miss_chance']:\n",
    "            p2['hp'] -= p1['damage']\n",
    "            if p2['hp'] <= 0:\n",
    "                return 0\n",
    "        if random() > p2['miss_chance']:\n",
    "            p1['hp'] -= p2['damage']\n",
    "            if p1['hp'] <= 0:\n",
    "                return 1\n",
    "\n",
    "fight(pikachu, mankey)"
   ]
  },
  {
   "cell_type": "code",
   "execution_count": 56,
   "metadata": {},
   "outputs": [
    {
     "data": {
      "text/plain": [
       "0.346234"
      ]
     },
     "execution_count": 56,
     "metadata": {},
     "output_type": "execute_result"
    }
   ],
   "source": [
    "import pandas as pd\n",
    "\n",
    "outcomes = []\n",
    "\n",
    "for _ in range(1000000):\n",
    "    outcomes.append(fight(pikachu, mankey))\n",
    "    \n",
    "pd.Series(outcomes).mean()"
   ]
  }
 ],
 "metadata": {
  "kernelspec": {
   "display_name": "Python 3",
   "language": "python",
   "name": "python3"
  },
  "language_info": {
   "codemirror_mode": {
    "name": "ipython",
    "version": 3
   },
   "file_extension": ".py",
   "mimetype": "text/x-python",
   "name": "python",
   "nbconvert_exporter": "python",
   "pygments_lexer": "ipython3",
   "version": "3.6.9"
  }
 },
 "nbformat": 4,
 "nbformat_minor": 4
}

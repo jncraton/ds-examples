{
 "cells": [
  {
   "cell_type": "markdown",
   "metadata": {},
   "source": [
    "# Pokemon Combat Simulator"
   ]
  },
  {
   "cell_type": "code",
   "execution_count": 325,
   "metadata": {},
   "outputs": [
    {
     "name": "stdout",
     "output_type": "stream",
     "text": [
      "1\n"
     ]
    }
   ],
   "source": [
    "import pandas as pd\n",
    "from random import random\n",
    "\n",
    "squirtle = {\n",
    "    'name':'squirtle',\n",
    "    'id':0,\n",
    "    'hp': 84,\n",
    "    'damage': 2,\n",
    "    'hit_chance': .5,\n",
    "}\n",
    "\n",
    "geodude = {\n",
    "    'name':'geodude',\n",
    "    'id':1,\n",
    "    'hp': 120,\n",
    "    'damage': 1,\n",
    "    'hit_chance': .8,\n",
    "}\n",
    "\n",
    "def get_winner(p1, p2):\n",
    "    p1, p2 = p1.copy(), p2.copy()\n",
    "    \n",
    "    while True:\n",
    "        if random() < p1['hit_chance']:\n",
    "            p2['hp'] -= p1['damage']\n",
    "            if p2['hp'] <= 0: return p1['id']\n",
    "            \n",
    "        if random() < p2['hit_chance']:\n",
    "            p1['hp'] -= p2['damage']\n",
    "            if p1['hp'] <= 0: return p2['id']\n",
    "\n",
    "print(get_winner(squirtle, geodude))"
   ]
  },
  {
   "cell_type": "code",
   "execution_count": 326,
   "metadata": {},
   "outputs": [
    {
     "data": {
      "text/plain": [
       "0.899"
      ]
     },
     "execution_count": 326,
     "metadata": {},
     "output_type": "execute_result"
    }
   ],
   "source": [
    "outcomes = pd.Series([get_winner(squirtle, geodude) for _ in range(1000)])\n",
    "outcomes.mean()"
   ]
  },
  {
   "cell_type": "code",
   "execution_count": 279,
   "metadata": {},
   "outputs": [
    {
     "data": {
      "text/plain": [
       "<AxesSubplot:ylabel='Frequency'>"
      ]
     },
     "execution_count": 279,
     "metadata": {},
     "output_type": "execute_result"
    },
    {
     "data": {
      "image/png": "[encoded data removed]",
      "text/plain": [
       "<Figure size 432x288 with 1 Axes>"
      ]
     },
     "metadata": {
      "needs_background": "light"
     },
     "output_type": "display_data"
    }
   ],
   "source": [
    "outcomes.plot.hist()"
   ]
  },
  {
   "cell_type": "code",
   "execution_count": 368,
   "metadata": {},
   "outputs": [
    {
     "name": "stdout",
     "output_type": "stream",
     "text": [
      "('geodude', -4)\n"
     ]
    }
   ],
   "source": [
    "def get_p1_margin(p1, p2):\n",
    "    p1, p2 = p1.copy(), p2.copy()\n",
    "    \n",
    "    while True:\n",
    "        if random() < p1['hit_chance']:\n",
    "            p2['hp'] -= p1['damage']\n",
    "            if p2['hp'] <= 0: return p1['name'], p1['hp'] - p2['hp']\n",
    "            \n",
    "        if random() < p2['hit_chance']:\n",
    "            p1['hp'] -= p2['damage']\n",
    "            if p1['hp'] <= 0: return p2['name'], p1['hp'] - p2['hp']\n",
    "\n",
    "print(get_p1_margin(squirtle, geodude))"
   ]
  },
  {
   "cell_type": "code",
   "execution_count": 370,
   "metadata": {},
   "outputs": [
    {
     "data": {
      "text/plain": [
       "1   -15.1044\n",
       "dtype: float64"
      ]
     },
     "execution_count": 370,
     "metadata": {},
     "output_type": "execute_result"
    }
   ],
   "source": [
    "hp = pd.DataFrame([get_p1_margin(squirtle, geodude) for _ in range(10000)])\n",
    "hp.set_index(0, inplace=True)\n",
    "hp.mean()"
   ]
  },
  {
   "cell_type": "code",
   "execution_count": 316,
   "metadata": {},
   "outputs": [
    {
     "data": {
      "text/plain": [
       "-8     1038\n",
       "-10     951\n",
       "-4      903\n",
       "-6      882\n",
       "-12     845\n",
       "-2      793\n",
       "-14     759\n",
       "-16     607\n",
       " 1      435\n",
       "-18     398\n",
       " 2      383\n",
       " 3      321\n",
       "-20     313\n",
       " 4      258\n",
       "-22     208\n",
       " 5      186\n",
       " 6      151\n",
       " 7      127\n",
       "-24     103\n",
       " 8       78\n",
       "-26      60\n",
       " 9       50\n",
       "-28      39\n",
       " 10      34\n",
       " 11      18\n",
       "-30      18\n",
       " 12      16\n",
       " 13       7\n",
       "-32       4\n",
       " 14       3\n",
       "-34       3\n",
       " 15       3\n",
       " 18       1\n",
       "-38       1\n",
       " 17       1\n",
       " 20       1\n",
       "-36       1\n",
       " 16       1\n",
       "dtype: int64"
      ]
     },
     "execution_count": 316,
     "metadata": {},
     "output_type": "execute_result"
    }
   ],
   "source": [
    "hp.value_counts()"
   ]
  },
  {
   "cell_type": "code",
   "execution_count": 371,
   "metadata": {},
   "outputs": [
    {
     "data": {
      "text/plain": [
       "<AxesSubplot:ylabel='Frequency'>"
      ]
     },
     "execution_count": 371,
     "metadata": {},
     "output_type": "execute_result"
    },
    {
     "data": {
      "image/png": "[encoded data removed]",
      "text/plain": [
       "<Figure size 432x288 with 1 Axes>"
      ]
     },
     "metadata": {
      "needs_background": "light"
     },
     "output_type": "display_data"
    }
   ],
   "source": [
    "hp.plot.hist(bins=20)"
   ]
  }
 ],
 "metadata": {
  "kernelspec": {
   "display_name": "Python 3",
   "language": "python",
   "name": "python3"
  },
  "language_info": {
   "codemirror_mode": {
    "name": "ipython",
    "version": 3
   },
   "file_extension": ".py",
   "mimetype": "text/x-python",
   "name": "python",
   "nbconvert_exporter": "python",
   "pygments_lexer": "ipython3",
   "version": "3.6.9"
  }
 },
 "nbformat": 4,
 "nbformat_minor": 4
}

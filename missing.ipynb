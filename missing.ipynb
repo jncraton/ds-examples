{
 "cells": [
  {
   "cell_type": "code",
   "execution_count": 78,
   "metadata": {},
   "outputs": [
    {
     "data": {
      "text/plain": [
       "0       4000.0000\n",
       "1      31200.0000\n",
       "2          0.3000\n",
       "3          0.3000\n",
       "4          2.2000\n",
       "          ...    \n",
       "840        0.0005\n",
       "841        0.0077\n",
       "842        0.0013\n",
       "843        0.0003\n",
       "844        0.0001\n",
       "Name: value, Length: 845, dtype: float64"
      ]
     },
     "execution_count": 78,
     "metadata": {},
     "output_type": "execute_result"
    }
   ],
   "source": [
    "import pandas as pd\n",
    "\n",
    "def convert_percent(value):\n",
    "    value = value.split('-')[0]\n",
    "    \n",
    "    if '%' in value:\n",
    "        value = value[:-1]\n",
    "        value = float(value) / 100.0\n",
    "    \n",
    "    return pd.to_numeric(value)\n",
    "    \n",
    "covid = pd.read_csv('https://raw.githubusercontent.com/jncraton/exampledata/master/covid-19-meta.csv', converters={\n",
    "    \"value\": convert_percent\n",
    "})\n",
    "\n",
    "covid.value"
   ]
  }
 ],
 "metadata": {
  "kernelspec": {
   "display_name": "Python 3",
   "language": "python",
   "name": "python3"
  },
  "language_info": {
   "codemirror_mode": {
    "name": "ipython",
    "version": 3
   },
   "file_extension": ".py",
   "mimetype": "text/x-python",
   "name": "python",
   "nbconvert_exporter": "python",
   "pygments_lexer": "ipython3",
   "version": "3.6.9"
  }
 },
 "nbformat": 4,
 "nbformat_minor": 4
}
